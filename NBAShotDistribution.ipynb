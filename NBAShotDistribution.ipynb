{
 "cells": [
  {
   "cell_type": "code",
   "execution_count": 1,
   "id": "748d19a4",
   "metadata": {},
   "outputs": [],
   "source": [
    "import pandas as pd\n",
    "import numpy as np \n",
    "import matplotlib.pyplot as plt\n",
    "import seaborn as sns\n",
    "from os import path\n",
    "import random \n",
    "\n",
    "pd.options.mode.chained_assignment = None\n",
    "%matplotlib qt"
   ]
  },
  {
   "cell_type": "code",
   "execution_count": 2,
   "id": "89798b35",
   "metadata": {},
   "outputs": [],
   "source": [
    "# Loading data\n",
    "dfs = pd.read_csv(path.join('shots.csv'))  \n",
    "dfg = pd.read_csv(path.join('games.csv'))  \n",
    "dft = pd.read_csv(path.join('teams.csv'))\n",
    "dftg = pd.read_csv(path.join('team_games.csv'))"
   ]
  },
  {
   "cell_type": "code",
   "execution_count": 3,
   "id": "d70fae0c",
   "metadata": {},
   "outputs": [],
   "source": [
    "# Processing Data \n",
    "cats2 = ['layup', 'pullup', 'float', 'dunk', 'hook', 'fadeaway', 'step']\n",
    "dfs['jump'] = dfs[cats2].sum(axis=1) == 0\n",
    "\n",
    "dfs['shot_type'] = np.nan\n",
    "for shot in cats2 + ['jump']:\n",
    "    dfs.loc[dfs[shot], 'shot_type'] = shot\n",
    "\n",
    "dfg.rename(columns={'home': 'home_team', 'away': 'away_team'}, inplace=True)"
   ]
  },
  {
   "cell_type": "code",
   "execution_count": 4,
   "id": "fb418fe9",
   "metadata": {},
   "outputs": [],
   "source": [
    "g = sns.displot(dfs, x='dist', kind='kde', hue='shot_type', fill=True)\n",
    "g.set(xlim=(-5,40))\n",
    "g.ax.invert_xaxis()\n",
    "plt.show()"
   ]
  },
  {
   "cell_type": "code",
   "execution_count": 5,
   "id": "e5d39913",
   "metadata": {},
   "outputs": [],
   "source": [
    "random.uniform(0,1)\n",
    "[random.gauss(0,1) for _ in range(10)]\n",
    "\n",
    "dfs['jdist'] = dfs['dist']\n",
    "dfs.loc[dfs['shot_type'] == 'layup', 'jdist'] = dfs['dist'].apply(lambda x: x + random.gauss(0, 1))\n",
    "dfs.loc[dfs['shot_type'] == 'dunk', 'jdist'] = dfs['dist'].apply(lambda x: x + random.gauss(0, 1))\n",
    "\n",
    "g = (sns.FacetGrid(dfs, hue='shot_type')\n",
    "     .map(sns.kdeplot,'jdist', shade=True))\n",
    "\n",
    "g.set(xlim=(-5,40))\n",
    "[g.ax.invert_xaxis() for ax in g.axes]\n",
    "g.add_legend()\n",
    "g.fig.subplots_adjust(top=0.9) # adding a title\n",
    "g.fig.suptitle('Distribution of Shot Distances by Type for NBA Players 2019-20')\n",
    "plt.show()"
   ]
  }
 ],
 "metadata": {
  "kernelspec": {
   "display_name": "Python 3 (ipykernel)",
   "language": "python",
   "name": "python3"
  },
  "language_info": {
   "codemirror_mode": {
    "name": "ipython",
    "version": 3
   },
   "file_extension": ".py",
   "mimetype": "text/x-python",
   "name": "python",
   "nbconvert_exporter": "python",
   "pygments_lexer": "ipython3",
   "version": "3.9.13"
  }
 },
 "nbformat": 4,
 "nbformat_minor": 5
}
